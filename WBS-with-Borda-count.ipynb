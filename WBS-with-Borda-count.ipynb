{
 "cells": [
  {
   "cell_type": "code",
   "execution_count": 2,
   "metadata": {},
   "outputs": [],
   "source": [
    "import numpy as np\n",
    "import matplotlib.pyplot as plt\n",
    "import scipy.stats as stats\n",
    "import random\n",
    "\n",
    "# import bt_mle_utils as mle\n",
    "# from simulation_utils import *"
   ]
  },
  {
   "cell_type": "code",
   "execution_count": 8,
   "metadata": {},
   "outputs": [],
   "source": [
    "def get_beta_with_gap(N, delta = 0.1):\n",
    "    beta = np.arange(N) * delta\n",
    "    beta = beta - np.mean(beta)\n",
    "    return beta\n",
    "\n",
    "def get_er_edge(n, m):\n",
    "    \"\"\"\n",
    "    generate m edges uniformly randomly from a graph with n nodes\n",
    "    \"\"\"\n",
    "    all_edge = np.where(np.triu(np.ones((n,n)), 1))\n",
    "    ix = np.random.choice(n * (n - 1) // 2, m, replace = True)\n",
    "    edge = [(all_edge[0][i], all_edge[1][i]) for i in ix]\n",
    "    return edge\n",
    "\n",
    "def get_X_from_edge(edge, n):\n",
    "    m = len(edge)\n",
    "    X = np.zeros((m, n))\n",
    "    for i, e in enumerate(edge):\n",
    "        X[i,e[0]] = 1\n",
    "        X[i,e[1]] = -1\n",
    "    return X\n",
    "\n",
    "def get_X(n, m):\n",
    "    edge = get_er_edge(n, m)\n",
    "    return get_X_from_edge(edge, n)\n",
    "\n",
    "\n",
    "def logistic(X, beta):\n",
    "    beta = beta.reshape((-1,1))\n",
    "#     t = np.clip(X @ beta, a_max = 1000, a_min = -1000)\n",
    "    t = X @ beta\n",
    "    exp = np.exp(t)\n",
    "    return exp / (1 + exp)\n",
    "\n",
    "def loglike_logistic(X, beta, y):\n",
    "    y = y.reshape((-1,1)) \n",
    "    t = X @ beta\n",
    "    res = y.T @ t - np.sum(np.log(1 + np.exp(t)))\n",
    "    return res.item()\n",
    "#     prob = logistic(X, beta)\n",
    "#     return np.sum(y * np.log(prob + 1e-8) + (1 - y) * np.log(1 - prob + 1e-8))\n",
    "#     return np.sum(y * np.log(prob) + (1 - y) * np.log(1 - prob))\n",
    "\n",
    "def grad_logistic(X, beta, y):\n",
    "    prob = logistic(X, beta)\n",
    "    return X.T @ (y.reshape((-1,1)) - prob)\n",
    "\n",
    "def hessian_logistic(X, beta, y):\n",
    "    prob = logistic(X, beta).reshape((len(y),))\n",
    "#     return -(prob * (1 - prob) * X.T) @ X - 1e-8 * np.eye(X.shape[1])\n",
    "    return -(prob * (1 - prob) * X.T) @ X\n",
    "\n",
    "\n",
    "def bt_newton_solver(X_train, y_train, lam = 0.1, max_step = 50, tol = 1e-12, verbose = False):\n",
    "    n, p = X_train.shape\n",
    "    beta_hat = np.zeros((p,1))\n",
    "    step_size = 1\n",
    "    l_path = []\n",
    "    i = 0\n",
    "    \n",
    "    err = 10\n",
    "    a, b = 0.01, 0.3\n",
    "    max_back = 100\n",
    "\n",
    "    obj_old = np.inf\n",
    "    while i < max_step and err > tol:\n",
    "        g = -grad_logistic(X_train, beta_hat, y_train) + lam * beta_hat\n",
    "        H = -hessian_logistic(X_train, beta_hat, y_train) + lam * np.eye(p)\n",
    "        beta_new = beta_hat + 0\n",
    "        s = step_size\n",
    "\n",
    "        v = -np.linalg.solve(H, g)\n",
    "        for j in range(max_back):\n",
    "            beta_new = beta_new + s * v\n",
    "            obj_new = -loglike_logistic(X_train, beta_new, y_train) + lam / 2 * np.sum(beta_new**2)\n",
    "            if obj_new <= obj_old + b * s * g.T @ v:\n",
    "                break\n",
    "            s *= a\n",
    "#         err = np.sum((beta_new - beta_hat)**2)**0.5\n",
    "        beta_hat = beta_new\n",
    "        err = np.sum((-grad_logistic(X_train, beta_hat, y_train) + lam * beta_hat)**2)**0.5\n",
    "        obj_old = obj_new\n",
    "        l_path.append(obj_new)\n",
    "        i += 1\n",
    "        if verbose:\n",
    "            print(\"step: \",i,\" is done\")\n",
    "    if verbose:\n",
    "        print('i: ', i)\n",
    "        print(\"err: \", err)\n",
    "        print(\"beta_hat: \", beta_hat)\n",
    "    \n",
    "    return beta_hat, l_path\n",
    "\n",
    "def logistic_beta_error(beta, beta_hat):\n",
    "    beta = beta.squeeze()\n",
    "    beta_hat = beta_hat.squeeze()    \n",
    "    return np.sum((beta - beta_hat)**2)**0.5, np.sum(np.abs(beta - beta_hat)**2)**0.5 / np.sum(np.abs(beta)**2)**0.5\n",
    "\n",
    "def logistic_y_error(beta, beta_hat, n = 10000):\n",
    "    p = len(beta)\n",
    "    X_test = np.random.uniform(0,1,(n,p))\n",
    "    y_test = np.random.binomial(1, logistic(X_test, beta))\n",
    "    y_hat = (logistic(X_test, beta_hat) > 0.5).astype(int)\n",
    "    return np.sum(np.abs(y_test - y_hat)) / n\n",
    "\n",
    "def logistic_prob_error(beta, beta_hat, n = 10000):\n",
    "    p = len(beta)\n",
    "    X_test = np.random.uniform(0,1,(n,p))\n",
    "    prob_test = logistic(X_test, beta)\n",
    "    prob_hat = logistic(X_test, beta_hat)\n",
    "    return np.sum(np.abs(prob_test - prob_hat)) / n\n"
   ]
  },
  {
   "cell_type": "code",
   "execution_count": 3,
   "metadata": {},
   "outputs": [
    {
     "data": {
      "text/plain": [
       "array([3])"
      ]
     },
     "execution_count": 3,
     "metadata": {},
     "output_type": "execute_result"
    }
   ],
   "source": [
    "a = np.arange(10)\n",
    "a[2+1:4]"
   ]
  },
  {
   "cell_type": "code",
   "execution_count": 5,
   "metadata": {},
   "outputs": [
    {
     "data": {
      "text/plain": [
       "array([1., 1., 1., 1., 1., 1., 1., 1., 1., 1.])"
      ]
     },
     "execution_count": 5,
     "metadata": {},
     "output_type": "execute_result"
    }
   ],
   "source": [
    "a = np.ones((3,10))\n",
    "a[1]"
   ]
  },
  {
   "cell_type": "code",
   "execution_count": 138,
   "metadata": {},
   "outputs": [],
   "source": [
    "def cusum_borda(Y, sm, em, smooth = 100):\n",
    "    \"\"\"\n",
    "    Y: T x n array\n",
    "    \"\"\"\n",
    "    y_train_joint = Y[int(sm):int(em) + 1]\n",
    "    nt, n = y_train_joint.shape\n",
    "    if nt < 2 * smooth:\n",
    "        return np.zeros(nt - 1)\n",
    "    \n",
    "    borda_left, borda_right = np.zeros((nt, n)), np.zeros((nt, n))\n",
    "\n",
    "    borda_left[0] = y_train_joint[0][:]\n",
    "    borda_right[-1] = y_train_joint[-1][:]\n",
    "\n",
    "    rank_left, rank_right = np.zeros((nt, n)), np.zeros((nt, n))\n",
    "\n",
    "    rank_left[0] = stats.rankdata(borda_left[0], method = 'min')\n",
    "    rank_right[-1] = stats.rankdata(borda_right[-1], method = 'min')\n",
    "\n",
    "    diff = np.zeros(nt - 1)\n",
    "\n",
    "    for i in range(1, nt):\n",
    "        borda_left[i] = borda_left[i - 1] + y_train_joint[i]\n",
    "        borda_right[nt - 1 - i] = borda_right[nt - 1 - (i - 1)] + y_train_joint[nt - 1 - i]\n",
    "\n",
    "        rank_left[i] = stats.rankdata(borda_left[i], method = 'min')\n",
    "        rank_right[nt - 1 - i] = stats.rankdata(borda_right[nt - 1 - i], method = 'min')\n",
    "\n",
    "    for i in range(nt - 1):\n",
    "        # change the metric when needed\n",
    "        diff[i] = np.sum(np.abs(rank_left[i] - rank_right[i + 1])) / n\n",
    "    \n",
    "    \n",
    "    for i in range(smooth):\n",
    "        diff[i] = diff[smooth]\n",
    "        diff[-i-1] = diff[-smooth-1]\n",
    "    \n",
    "    return diff\n",
    "    \n",
    "\n",
    "def wbs_original(Y, cusum_func, start, end, intervals, threshold, smooth = 100, buffer = 200):\n",
    "    n_interval = len(intervals)\n",
    "    cp_loc, cp_val = [], []\n",
    "    cusum_val = np.zeros(end - start)\n",
    "    \n",
    "    def wbs_recurs(Y, start, end, intervals, threshold):\n",
    "        nonlocal cp_loc, cp_val, cusum_val, n_interval\n",
    "        cand_loc, cand_val = np.zeros(n_interval), np.ones(n_interval) * -1\n",
    "        for m in range(n_interval):\n",
    "            sm, em = int(max(intervals[m][0], start)), int(min(intervals[m][1], end))\n",
    "#             print(sm)\n",
    "#             print(em)\n",
    "            if em - sm > buffer:\n",
    "                cusum = cusum_func(Y, sm, em, smooth = smooth)\n",
    "#                 print(\"len\" + str(len(cusum)))\n",
    "                for t in range(sm, em):\n",
    "                    cusum_val[t] = cusum[t - sm]\n",
    "#                 print(np.argmax(cusum))\n",
    "                cand_loc[m] = sm + 1 + np.argmax(cusum)\n",
    "                cand_val[m] = cusum_val[int(cand_loc[m])]\n",
    "        m_star = np.argmax(cand_val)\n",
    "        if cand_val[m_star] > threshold:\n",
    "            bm = int(cand_loc[m_star])\n",
    "            cp_loc.append(int(bm))\n",
    "            sm, em = int(max(intervals[m_star][0], start)), int(min(intervals[m_star][1], end))\n",
    "            print(\"new cp: \" + str(bm) + \" with cusum \" + str(cusum_val[bm]) + \" in interval: \" + str([sm, em]))\n",
    "            wbs_recurs(Y, start, bm - buffer, intervals, threshold)\n",
    "            wbs_recurs(Y, bm + buffer, end, intervals, threshold)\n",
    "    \n",
    "    wbs_recurs(Y, start, end, intervals, threshold)\n",
    "    for loc in cp_loc:\n",
    "        cp_val.append(cusum_val[loc])\n",
    "    return cp_loc, cp_val, cusum_val"
   ]
  },
  {
   "cell_type": "code",
   "execution_count": 27,
   "metadata": {},
   "outputs": [
    {
     "data": {
      "text/plain": [
       "2"
      ]
     },
     "execution_count": 27,
     "metadata": {},
     "output_type": "execute_result"
    }
   ],
   "source": [
    "max(1,2)"
   ]
  },
  {
   "cell_type": "code",
   "execution_count": 92,
   "metadata": {},
   "outputs": [
    {
     "name": "stdout",
     "output_type": "stream",
     "text": [
      "[6.76494854 7.28171091]\n"
     ]
    }
   ],
   "source": [
    "T = 3\n",
    "n = 50\n",
    "m = np.array([10000, 10000, 10000])\n",
    "cp_truth = np.cumsum(m)[:T-1]\n",
    "\n",
    "beta = np.zeros((T, n))\n",
    "\n",
    "t = 0.9\n",
    "kappa = np.log(t / (1 - t))\n",
    "delta = 1\n",
    "beta_t = get_beta_with_gap(n, delta)\n",
    "beta_t *= kappa / (np.max(beta_t) - np.min(beta_t))\n",
    "beta[0] = beta_t[:]\n",
    "beta[1] = beta_t[np.random.permutation(n)]\n",
    "beta[2] = beta[1][np.random.permutation(n)]\n",
    "\n",
    "diff = np.zeros(T - 1)\n",
    "for t in range(1, T):\n",
    "    diff[t - 1] = np.sum(np.abs(beta[t] - beta[t - 1])**2)**0.5\n",
    "print(diff)\n",
    "\n",
    "# X_train = np.random.normal(0,1,(n,p))\n",
    "X_train = np.stack([get_X(n, m[t]) for t in range(T)])\n",
    "y_train = np.stack([np.random.binomial(1, logistic(X_train[i], beta[i])) for i in range(T)])\n",
    "\n",
    "X_train_joint = X_train.reshape((-1, n))\n",
    "y_train_joint = y_train.reshape((-1, 1))\n",
    "Y = np.zeros_like(X_train_joint)\n",
    "nt = len(y_train_joint)\n",
    "for i in range(nt):\n",
    "    Y[i] = X_train_joint[i] * (2 * y_train_joint[i] - 1)"
   ]
  },
  {
   "cell_type": "code",
   "execution_count": 36,
   "metadata": {},
   "outputs": [
    {
     "data": {
      "text/plain": [
       "10000"
      ]
     },
     "execution_count": 36,
     "metadata": {},
     "output_type": "execute_result"
    }
   ],
   "source": [
    "cp_truth[0]"
   ]
  },
  {
   "cell_type": "code",
   "execution_count": 61,
   "metadata": {},
   "outputs": [
    {
     "data": {
      "text/plain": [
       "[[5000, 15000], [15000, 25000]]"
      ]
     },
     "execution_count": 61,
     "metadata": {},
     "output_type": "execute_result"
    }
   ],
   "source": [
    "intervals"
   ]
  },
  {
   "cell_type": "code",
   "execution_count": 97,
   "metadata": {},
   "outputs": [
    {
     "name": "stdout",
     "output_type": "stream",
     "text": [
      "0\n",
      "9999\n",
      "0\n",
      "9999\n",
      "9995\n",
      "9999\n"
     ]
    }
   ],
   "source": [
    "start, end = 0, len(Y)\n",
    "intervals = []\n",
    "delta = m // 2\n",
    "for i in range(T - 1):\n",
    "    intervals.append([cp_truth[i] - delta[i], cp_truth[i] + delta[i]])\n",
    "\n",
    "threshold = 15\n",
    "    \n",
    "cp_loc, cp_val, cusum_val = wbs_original(Y, cusum_borda, start, end, intervals, threshold)"
   ]
  },
  {
   "cell_type": "code",
   "execution_count": 98,
   "metadata": {},
   "outputs": [
    {
     "data": {
      "text/plain": [
       "[5001, 5003]"
      ]
     },
     "execution_count": 98,
     "metadata": {},
     "output_type": "execute_result"
    }
   ],
   "source": [
    "cp_loc"
   ]
  },
  {
   "cell_type": "code",
   "execution_count": 99,
   "metadata": {},
   "outputs": [
    {
     "data": {
      "text/plain": [
       "[<matplotlib.lines.Line2D at 0x1d11c886f48>]"
      ]
     },
     "execution_count": 99,
     "metadata": {},
     "output_type": "execute_result"
    },
    {
     "data": {
      "image/png": "[encoded data removed]",
      "text/plain": [
       "<Figure size 432x288 with 1 Axes>"
      ]
     },
     "metadata": {
      "needs_background": "light"
     },
     "output_type": "display_data"
    }
   ],
   "source": [
    "plt.plot(cusum_val, '-')"
   ]
  },
  {
   "cell_type": "code",
   "execution_count": 103,
   "metadata": {},
   "outputs": [
    {
     "data": {
      "text/plain": [
       "(30000, 50)"
      ]
     },
     "execution_count": 103,
     "metadata": {},
     "output_type": "execute_result"
    }
   ],
   "source": [
    "Y.shape"
   ]
  },
  {
   "cell_type": "code",
   "execution_count": 140,
   "metadata": {},
   "outputs": [
    {
     "name": "stdout",
     "output_type": "stream",
     "text": [
      "new cp: 20076 with cusum 20.18 in interval: [0, 29999]\n",
      "new cp: 9958 with cusum 16.88 in interval: [0, 19876]\n"
     ]
    }
   ],
   "source": [
    "start, end = 0, len(Y)\n",
    "intervals = [[start, end - 1]]\n",
    "\n",
    "threshold = 15\n",
    "    \n",
    "cp_loc, cp_val, cusum_val = wbs_original(Y, cusum_borda, start, end - 1, intervals, threshold, smooth = 100, buffer = 200)"
   ]
  },
  {
   "cell_type": "code",
   "execution_count": 126,
   "metadata": {},
   "outputs": [
    {
     "data": {
      "text/plain": [
       "[20076, 19976, 9980]"
      ]
     },
     "execution_count": 126,
     "metadata": {},
     "output_type": "execute_result"
    }
   ],
   "source": [
    "cp_loc"
   ]
  },
  {
   "cell_type": "code",
   "execution_count": 145,
   "metadata": {},
   "outputs": [
    {
     "data": {
      "text/plain": [
       "3.12"
      ]
     },
     "execution_count": 145,
     "metadata": {},
     "output_type": "execute_result"
    }
   ],
   "source": [
    "min(cusum_val)"
   ]
  },
  {
   "cell_type": "code",
   "execution_count": 158,
   "metadata": {
    "scrolled": false
   },
   "outputs": [
    {
     "data": {
      "image/png": "[encoded data removed]",
      "text/plain": [
       "<Figure size 720x432 with 1 Axes>"
      ]
     },
     "metadata": {
      "needs_background": "light"
     },
     "output_type": "display_data"
    }
   ],
   "source": [
    "plt.figure(figsize = (10, 6))\n",
    "plt.plot(cusum_val, '-')\n",
    "plt.vlines(cp_truth, color = 'red', label = \"true cp\", ymin = min(cusum_val), ymax = max(cusum_val))\n",
    "plt.vlines(cp_loc, color = 'black', linestyles = \"dashed\", label = \"estimates\", ymin = min(cusum_val), ymax = max(cusum_val))\n",
    "plt.legend([\"cusum\", \"true cp\", \"estimates\"])\n",
    "plt.savefig('wbs_borda_2cp.pdf')"
   ]
  },
  {
   "cell_type": "code",
   "execution_count": null,
   "metadata": {},
   "outputs": [],
   "source": []
  },
  {
   "cell_type": "code",
   "execution_count": null,
   "metadata": {},
   "outputs": [],
   "source": []
  },
  {
   "cell_type": "code",
   "execution_count": null,
   "metadata": {},
   "outputs": [],
   "source": []
  },
  {
   "cell_type": "code",
   "execution_count": null,
   "metadata": {},
   "outputs": [],
   "source": []
  },
  {
   "cell_type": "code",
   "execution_count": null,
   "metadata": {},
   "outputs": [],
   "source": []
  },
  {
   "cell_type": "code",
   "execution_count": null,
   "metadata": {},
   "outputs": [],
   "source": []
  },
  {
   "cell_type": "code",
   "execution_count": 94,
   "metadata": {},
   "outputs": [],
   "source": []
  },
  {
   "cell_type": "code",
   "execution_count": 65,
   "metadata": {},
   "outputs": [
    {
     "name": "stdout",
     "output_type": "stream",
     "text": [
      "(0.6454748927051998, 0.14106636597832084)\n",
      "0.2892\n",
      "0.027506678587686663\n"
     ]
    }
   ],
   "source": [
    "n = 50\n",
    "\n",
    "t = 0.9\n",
    "kappa = np.log(t / (1 - t))\n",
    "delta = 1\n",
    "beta = get_beta_with_gap(n, delta)\n",
    "beta *= kappa / (np.max(beta) - np.min(beta))\n",
    "\n",
    "m = 10000\n",
    "\n",
    "X_train = get_X(n, m)\n",
    "y_train = np.random.binomial(1, logistic(X_train, beta))\n",
    "\n",
    "beta_hat, l_path = bt_newton_solver(X_train, y_train)\n",
    "\n",
    "print(logistic_beta_error(beta, beta_hat))\n",
    "print(logistic_y_error(beta, beta_hat))\n",
    "print(logistic_prob_error(beta, beta_hat))"
   ]
  },
  {
   "cell_type": "code",
   "execution_count": 66,
   "metadata": {
    "scrolled": true
   },
   "outputs": [
    {
     "data": {
      "text/plain": [
       "<matplotlib.legend.Legend at 0x16acd576e08>"
      ]
     },
     "execution_count": 66,
     "metadata": {},
     "output_type": "execute_result"
    },
    {
     "data": {
      "image/png": "[encoded data removed]",
      "text/plain": [
       "<Figure size 432x288 with 1 Axes>"
      ]
     },
     "metadata": {
      "needs_background": "light"
     },
     "output_type": "display_data"
    }
   ],
   "source": [
    "plt.plot(beta, 'b-')\n",
    "plt.plot(beta_hat, 'r-.')\n",
    "plt.legend(['beta','beta_hat'])"
   ]
  },
  {
   "cell_type": "code",
   "execution_count": 53,
   "metadata": {
    "scrolled": true
   },
   "outputs": [
    {
     "data": {
      "text/plain": [
       "[-5870.348435704885,\n",
       " -5853.039842428691,\n",
       " -5852.991035908558,\n",
       " -5852.991035414691,\n",
       " -5852.991035414691,\n",
       " -5852.9910354146905,\n",
       " -5852.991035414692]"
      ]
     },
     "execution_count": 53,
     "metadata": {},
     "output_type": "execute_result"
    }
   ],
   "source": [
    "l_path"
   ]
  },
  {
   "cell_type": "code",
   "execution_count": 64,
   "metadata": {},
   "outputs": [
    {
     "data": {
      "text/plain": [
       "[<matplotlib.lines.Line2D at 0x16acd816a48>]"
      ]
     },
     "execution_count": 64,
     "metadata": {},
     "output_type": "execute_result"
    },
    {
     "data": {
      "image/png": "[encoded data removed]",
      "text/plain": [
       "<Figure size 432x288 with 1 Axes>"
      ]
     },
     "metadata": {
      "needs_background": "light"
     },
     "output_type": "display_data"
    }
   ],
   "source": [
    "plt.plot(l_path)"
   ]
  },
  {
   "cell_type": "code",
   "execution_count": 67,
   "metadata": {
    "scrolled": false
   },
   "outputs": [
    {
     "data": {
      "text/plain": [
       "(array([ 378.,  575.,  891.,  970.,  886., 1092., 1117., 1046., 1447.,\n",
       "        1598.]),\n",
       " array([0.1       , 0.13887915, 0.17775831, 0.21663746, 0.25551662,\n",
       "        0.29439577, 0.33327493, 0.37215408, 0.41103324, 0.44991239,\n",
       "        0.48879155]),\n",
       " <a list of 10 Patch objects>)"
      ]
     },
     "execution_count": 67,
     "metadata": {},
     "output_type": "execute_result"
    },
    {
     "data": {
      "image/png": "[encoded data removed]",
      "text/plain": [
       "<Figure size 432x288 with 1 Axes>"
      ]
     },
     "metadata": {
      "needs_background": "light"
     },
     "output_type": "display_data"
    }
   ],
   "source": [
    "plt.hist(logistic(X_train, beta))"
   ]
  },
  {
   "cell_type": "markdown",
   "metadata": {},
   "source": [
    "## Try Borda count"
   ]
  },
  {
   "cell_type": "code",
   "execution_count": 104,
   "metadata": {},
   "outputs": [],
   "source": [
    "def borda_count(X, y):\n",
    "    \"\"\"\n",
    "    borda count of n items\n",
    "    X: m x n array\n",
    "    y: m x . array\n",
    "    \"\"\"\n",
    "    y = y.squeeze()\n",
    "    res = np.sum(X.T * (2 * y - 1), axis = 1).squeeze()\n",
    "    return res\n",
    "\n",
    "def ranking_error(v,v_hat,normalize = True):\n",
    "    r = stats.rankdata(v, method = 'min')\n",
    "    r_hat = stats.rankdata(v_hat, method = 'min')\n",
    "    n = len(v)\n",
    "    if normalize:\n",
    "        res = np.sum(np.abs(r - r_hat)) / (n**2 // 4)\n",
    "    else:\n",
    "        res = np.sum(np.abs(r - r_hat))\n",
    "    return res"
   ]
  },
  {
   "cell_type": "code",
   "execution_count": 108,
   "metadata": {},
   "outputs": [],
   "source": [
    "n = 50\n",
    "\n",
    "t = 0.9\n",
    "kappa = np.log(t / (1 - t))\n",
    "delta = 1\n",
    "beta = get_beta_with_gap(n, delta)\n",
    "beta *= kappa / (np.max(beta) - np.min(beta))\n",
    "\n",
    "m = 10000\n",
    "\n",
    "X_train = get_X(n, m)\n",
    "y_train = np.random.binomial(1, logistic(X_train, beta))"
   ]
  },
  {
   "cell_type": "code",
   "execution_count": 109,
   "metadata": {},
   "outputs": [],
   "source": [
    "borda = borda_count(X_train ,y_train)"
   ]
  },
  {
   "cell_type": "code",
   "execution_count": 110,
   "metadata": {},
   "outputs": [
    {
     "data": {
      "text/plain": [
       "0.1488"
      ]
     },
     "execution_count": 110,
     "metadata": {},
     "output_type": "execute_result"
    }
   ],
   "source": [
    "ranking_error(beta, borda)"
   ]
  },
  {
   "cell_type": "code",
   "execution_count": null,
   "metadata": {},
   "outputs": [],
   "source": []
  },
  {
   "cell_type": "markdown",
   "metadata": {},
   "source": [
    "Check the distribution of CUSUM-borda"
   ]
  },
  {
   "cell_type": "code",
   "execution_count": null,
   "metadata": {},
   "outputs": [],
   "source": [
    "def one_trial_cusum_borda():\n",
    "    T = 2\n",
    "    n = 50\n",
    "    m = 10000\n",
    "\n",
    "    beta = np.zeros((T, n))\n",
    "\n",
    "    t = 0.9\n",
    "    kappa = np.log(t / (1 - t))\n",
    "    delta = 1\n",
    "    beta_t = get_beta_with_gap(n, delta)\n",
    "    beta_t *= kappa / (np.max(beta_t) - np.min(beta_t))\n",
    "    beta[0] = beta_t[:]\n",
    "    beta[1] = beta_t[np.random.permutation(n)]\n",
    "\n",
    "    diff = np.zeros(T - 1)\n",
    "    for t in range(1, T):\n",
    "        diff[t - 1] = np.sum(np.abs(beta[t] - beta[t - 1])**2)**0.5\n",
    "    print(diff)\n",
    "\n",
    "    # X_train = np.random.normal(0,1,(n,p))\n",
    "    X_train = np.stack([get_X(n, m) for _ in range(T)])\n",
    "    y_train = np.stack([np.random.binomial(1, logistic(X_train[i], beta[i])) for i in range(T)])\n",
    "\n",
    "    X_train_joint = X_train.reshape((-1, n))\n",
    "    y_train_joint = y_train.reshape((-1, 1))\n",
    "\n",
    "    nt = len(y_train_joint)\n",
    "    borda_left, borda_right = np.zeros((nt, n)), np.zeros((nt, n))\n",
    "\n",
    "    borda_left[0] = X_train_joint[0][:]\n",
    "    borda_right[-1] = X_train_joint[-1][:]\n",
    "\n",
    "    rank_left, rank_right = np.zeros((nt, n)), np.zeros((nt, n))\n",
    "\n",
    "    rank_left[0] = stats.rankdata(borda_left[0], method = 'min')\n",
    "    rank_right[-1] = stats.rankdata(borda_right[-1], method = 'min')\n",
    "\n",
    "\n",
    "    smooth = 200\n",
    "\n",
    "    diff = np.zeros(nt - 1)\n",
    "\n",
    "    for i in range(1, nt):\n",
    "        borda_left[i] = borda_left[i - 1] + X_train_joint[i] * (2 * y_train_joint[i] - 1)\n",
    "        borda_right[nt - 1 - i] = borda_right[nt - 1 - (i - 1)] + X_train_joint[nt - 1 - i] * (2 * y_train_joint[nt - 1 - i] - 1)\n",
    "\n",
    "        rank_left[i] = stats.rankdata(borda_left[i], method = 'min')\n",
    "        rank_right[nt - 1 - i] = stats.rankdata(borda_right[nt - 1 - i], method = 'min')\n",
    "\n",
    "    for i in range(nt - 1):\n",
    "        diff[i] = np.sum(np.abs(rank_left[i] - rank_right[i + 1])) / n\n",
    "    \n",
    "    for i in range(smooth):\n",
    "        diff[i] = diff[smooth]\n",
    "        diff[-i-1] = diff[-smooth-1]    "
   ]
  },
  {
   "cell_type": "code",
   "execution_count": null,
   "metadata": {},
   "outputs": [],
   "source": []
  },
  {
   "cell_type": "code",
   "execution_count": null,
   "metadata": {},
   "outputs": [],
   "source": []
  },
  {
   "cell_type": "code",
   "execution_count": 73,
   "metadata": {},
   "outputs": [
    {
     "data": {
      "text/plain": [
       "array([3, 1, 2, 4])"
      ]
     },
     "execution_count": 73,
     "metadata": {},
     "output_type": "execute_result"
    }
   ],
   "source": [
    "a = np.array([1,2,3,4])\n",
    "ix = np.random.permutation(4)\n",
    "b = a[ix]\n",
    "a[0] = 10\n",
    "b"
   ]
  },
  {
   "cell_type": "markdown",
   "metadata": {},
   "source": [
    "Single change point"
   ]
  },
  {
   "cell_type": "code",
   "execution_count": 120,
   "metadata": {
    "scrolled": true
   },
   "outputs": [
    {
     "name": "stdout",
     "output_type": "stream",
     "text": [
      "[6.70553895]\n"
     ]
    }
   ],
   "source": [
    "T = 2\n",
    "n = 50\n",
    "m = 10000\n",
    "\n",
    "beta = np.zeros((T, n))\n",
    "\n",
    "t = 0.9\n",
    "kappa = np.log(t / (1 - t))\n",
    "delta = 1\n",
    "beta_t = get_beta_with_gap(n, delta)\n",
    "beta_t *= kappa / (np.max(beta_t) - np.min(beta_t))\n",
    "beta[0] = beta_t[:]\n",
    "beta[1] = beta_t[np.random.permutation(n)]\n",
    "\n",
    "diff = np.zeros(T - 1)\n",
    "for t in range(1, T):\n",
    "    diff[t - 1] = np.sum(np.abs(beta[t] - beta[t - 1])**2)**0.5\n",
    "print(diff)\n",
    "\n",
    "# X_train = np.random.normal(0,1,(n,p))\n",
    "X_train = np.stack([get_X(n, m) for _ in range(T)])\n",
    "y_train = np.stack([np.random.binomial(1, logistic(X_train[i], beta[i])) for i in range(T)])\n",
    "\n",
    "X_train_joint = X_train.reshape((-1, n))\n",
    "y_train_joint = y_train.reshape((-1, 1))"
   ]
  },
  {
   "cell_type": "code",
   "execution_count": 89,
   "metadata": {},
   "outputs": [],
   "source": [
    "nt = len(y_train_joint)\n",
    "borda_left, borda_right = np.zeros((nt, n)), np.zeros((nt, n))\n",
    "\n",
    "borda_left[0] = X_train_joint[0][:]\n",
    "borda_right[-1] = X_train_joint[-1][:]\n",
    "\n",
    "rank_left, rank_right = np.zeros((nt, n)), np.zeros((nt, n))\n",
    "\n",
    "rank_left[0] = stats.rankdata(borda_left[0], method = 'min')\n",
    "rank_right[-1] = stats.rankdata(borda_right[-1], method = 'min')\n",
    "\n",
    "\n",
    "buffer = 1000\n",
    "\n",
    "diff = np.zeros(nt - 1)\n",
    "\n",
    "for i in range(1, nt):\n",
    "    borda_left[i] = borda_left[i - 1] + X_train_joint[i] * (2 * y_train_joint[i] - 1)\n",
    "    borda_right[nt - 1 - i] = borda_right[nt - 1 - (i - 1)] + X_train_joint[nt - 1 - i] * (2 * y_train_joint[nt - 1 - i] - 1)\n",
    "    \n",
    "    rank_left[i] = stats.rankdata(borda_left[i], method = 'min')\n",
    "    rank_right[nt - 1 - i] = stats.rankdata(borda_right[nt - 1 - i], method = 'min')\n",
    "\n",
    "for i in range(nt - 1):\n",
    "    diff[i] = np.sum(np.abs(rank_left[i] - rank_right[i + 1]))"
   ]
  },
  {
   "cell_type": "code",
   "execution_count": 90,
   "metadata": {
    "scrolled": false
   },
   "outputs": [
    {
     "data": {
      "text/plain": [
       "[<matplotlib.lines.Line2D at 0x16acd5ea888>]"
      ]
     },
     "execution_count": 90,
     "metadata": {},
     "output_type": "execute_result"
    },
    {
     "data": {
      "image/png": "[encoded data removed]",
      "text/plain": [
       "<Figure size 432x288 with 1 Axes>"
      ]
     },
     "metadata": {
      "needs_background": "light"
     },
     "output_type": "display_data"
    }
   ],
   "source": [
    "plt.plot(np.arange(buffer, nt - buffer), diff[buffer:nt - buffer], '.')"
   ]
  },
  {
   "cell_type": "code",
   "execution_count": 124,
   "metadata": {},
   "outputs": [
    {
     "name": "stdout",
     "output_type": "stream",
     "text": [
      "[6.12703734]\n"
     ]
    }
   ],
   "source": [
    "T = 2\n",
    "n = 50\n",
    "m = 100000\n",
    "\n",
    "beta = np.zeros((T, n))\n",
    "\n",
    "t = 0.9\n",
    "kappa = np.log(t / (1 - t))\n",
    "delta = 1\n",
    "beta_t = get_beta_with_gap(n, delta)\n",
    "beta_t *= kappa / (np.max(beta_t) - np.min(beta_t))\n",
    "beta[0] = beta_t[:]\n",
    "beta[1] = beta_t[np.random.permutation(n)]\n",
    "\n",
    "diff = np.zeros(T - 1)\n",
    "for t in range(1, T):\n",
    "    diff[t - 1] = np.sum(np.abs(beta[t] - beta[t - 1])**2)**0.5\n",
    "print(diff)\n",
    "\n",
    "# X_train = np.random.normal(0,1,(n,p))\n",
    "X_train = np.stack([get_X(n, m) for _ in range(T)])\n",
    "y_train = np.stack([np.random.binomial(1, logistic(X_train[i], beta[i])) for i in range(T)])\n",
    "\n",
    "X_train_joint = X_train.reshape((-1, n))\n",
    "y_train_joint = y_train.reshape((-1, 1))"
   ]
  },
  {
   "cell_type": "code",
   "execution_count": 125,
   "metadata": {},
   "outputs": [
    {
     "data": {
      "text/plain": [
       "0.0784"
      ]
     },
     "execution_count": 125,
     "metadata": {},
     "output_type": "execute_result"
    }
   ],
   "source": [
    "borda_joint = borda_count(X_train_joint, y_train_joint)\n",
    "beta_joint = beta.mean(axis = 0)\n",
    "ranking_error(beta_joint, borda_joint)"
   ]
  },
  {
   "cell_type": "code",
   "execution_count": null,
   "metadata": {},
   "outputs": [],
   "source": []
  },
  {
   "cell_type": "code",
   "execution_count": null,
   "metadata": {},
   "outputs": [],
   "source": []
  },
  {
   "cell_type": "code",
   "execution_count": null,
   "metadata": {},
   "outputs": [],
   "source": []
  },
  {
   "cell_type": "code",
   "execution_count": null,
   "metadata": {},
   "outputs": [],
   "source": []
  },
  {
   "cell_type": "markdown",
   "metadata": {},
   "source": [
    "Two change points"
   ]
  },
  {
   "cell_type": "code",
   "execution_count": 85,
   "metadata": {
    "scrolled": true
   },
   "outputs": [
    {
     "name": "stdout",
     "output_type": "stream",
     "text": [
      "[6.73874156 6.5274544 ]\n"
     ]
    }
   ],
   "source": [
    "T = 3\n",
    "n = 50\n",
    "m = 10000\n",
    "\n",
    "beta = np.zeros((T, n))\n",
    "\n",
    "t = 0.9\n",
    "kappa = np.log(t / (1 - t))\n",
    "delta = 1\n",
    "beta_t = get_beta_with_gap(n, delta)\n",
    "beta_t *= kappa / (np.max(beta_t) - np.min(beta_t))\n",
    "beta[0] = beta_t[:]\n",
    "beta[1] = beta_t[np.random.permutation(n)]\n",
    "beta[2] = beta[1][np.random.permutation(n)]\n",
    "\n",
    "diff = np.zeros(T - 1)\n",
    "for t in range(1, T):\n",
    "    diff[t - 1] = np.sum(np.abs(beta[t] - beta[t - 1])**2)**0.5\n",
    "print(diff)\n",
    "\n",
    "# X_train = np.random.normal(0,1,(n,p))\n",
    "X_train = np.stack([get_X(n, m) for _ in range(T)])\n",
    "y_train = np.stack([np.random.binomial(1, logistic(X_train[i], beta[i])) for i in range(T)])\n",
    "\n",
    "X_train_joint = X_train.reshape((-1, n))\n",
    "y_train_joint = y_train.reshape((-1, 1))"
   ]
  },
  {
   "cell_type": "code",
   "execution_count": 86,
   "metadata": {},
   "outputs": [],
   "source": [
    "nt = len(y_train_joint)\n",
    "borda_left, borda_right = np.zeros((nt, n)), np.zeros((nt, n))\n",
    "\n",
    "borda_left[0] = X_train_joint[0][:]\n",
    "borda_right[-1] = X_train_joint[-1][:]\n",
    "\n",
    "rank_left, rank_right = np.zeros((nt, n)), np.zeros((nt, n))\n",
    "\n",
    "rank_left[0] = stats.rankdata(borda_left[0], method = 'min')\n",
    "rank_right[-1] = stats.rankdata(borda_right[-1], method = 'min')\n",
    "\n",
    "\n",
    "buffer = 1000\n",
    "\n",
    "diff = np.zeros(nt - 1)\n",
    "\n",
    "for i in range(1, nt):\n",
    "    borda_left[i] = borda_left[i - 1] + X_train_joint[i] * (2 * y_train_joint[i] - 1)\n",
    "    borda_right[nt - 1 - i] = borda_right[nt - 1 - (i - 1)] + X_train_joint[nt - 1 - i] * (2 * y_train_joint[nt - 1 - i] - 1)\n",
    "    \n",
    "    rank_left[i] = stats.rankdata(borda_left[i], method = 'min')\n",
    "    rank_right[nt - 1 - i] = stats.rankdata(borda_right[nt - 1 - i], method = 'min')\n",
    "\n",
    "for i in range(nt - 1):\n",
    "    diff[i] = np.sum(np.abs(rank_left[i] - rank_right[i + 1])) / n"
   ]
  },
  {
   "cell_type": "code",
   "execution_count": 90,
   "metadata": {},
   "outputs": [
    {
     "data": {
      "text/plain": [
       "array([24.34, 23.74, 23.12, 21.78, 20.58, 20.64, 20.82, 20.58, 20.8 ,\n",
       "       20.8 , 20.38, 20.5 , 20.5 , 20.22, 19.2 , 19.06, 18.3 , 18.48,\n",
       "       17.96, 17.22, 17.9 , 17.72, 17.68, 17.38, 16.86, 16.94, 16.72,\n",
       "       16.12, 16.48, 16.36])"
      ]
     },
     "execution_count": 90,
     "metadata": {},
     "output_type": "execute_result"
    }
   ],
   "source": [
    "diff[:30]"
   ]
  },
  {
   "cell_type": "code",
   "execution_count": 87,
   "metadata": {
    "scrolled": true
   },
   "outputs": [
    {
     "data": {
      "text/plain": [
       "28000"
      ]
     },
     "execution_count": 87,
     "metadata": {},
     "output_type": "execute_result"
    }
   ],
   "source": [
    "len(diff[buffer:nt - buffer])"
   ]
  },
  {
   "cell_type": "code",
   "execution_count": 71,
   "metadata": {},
   "outputs": [
    {
     "data": {
      "text/plain": [
       "array([1, 2, 3, 4])"
      ]
     },
     "execution_count": 71,
     "metadata": {},
     "output_type": "execute_result"
    }
   ],
   "source": [
    "np.arange(1,5)"
   ]
  },
  {
   "cell_type": "code",
   "execution_count": 73,
   "metadata": {
    "scrolled": false
   },
   "outputs": [
    {
     "data": {
      "text/plain": [
       "[<matplotlib.lines.Line2D at 0x1d11c54ad08>]"
      ]
     },
     "execution_count": 73,
     "metadata": {},
     "output_type": "execute_result"
    },
    {
     "data": {
      "image/png": "[encoded data removed]",
      "text/plain": [
       "<Figure size 432x288 with 1 Axes>"
      ]
     },
     "metadata": {
      "needs_background": "light"
     },
     "output_type": "display_data"
    }
   ],
   "source": [
    "buffer = 0\n",
    "plt.plot(np.arange(buffer, nt - 1 - buffer), diff[buffer:nt - 1 - buffer], '.')"
   ]
  },
  {
   "cell_type": "markdown",
   "metadata": {},
   "source": [
    "More change points"
   ]
  },
  {
   "cell_type": "code",
   "execution_count": 117,
   "metadata": {
    "scrolled": true
   },
   "outputs": [
    {
     "name": "stdout",
     "output_type": "stream",
     "text": [
      "[6.52868646 6.16955266 4.57568243]\n"
     ]
    }
   ],
   "source": [
    "T = 4\n",
    "n = 50\n",
    "m = 10000\n",
    "\n",
    "beta = np.zeros((T, n))\n",
    "\n",
    "t = 0.9\n",
    "kappa = np.log(t / (1 - t))\n",
    "delta = 1\n",
    "beta_t = get_beta_with_gap(n, delta)\n",
    "beta_t *= kappa / (np.max(beta_t) - np.min(beta_t))\n",
    "beta[0] = beta_t[:]\n",
    "beta[1] = beta_t[np.random.permutation(n)]\n",
    "beta[2] = beta[1][np.random.permutation(n)]\n",
    "\n",
    "diff = np.zeros(T - 1)\n",
    "for t in range(1, T):\n",
    "    diff[t - 1] = np.sum(np.abs(beta[t] - beta[t - 1])**2)**0.5\n",
    "print(diff)\n",
    "\n",
    "# X_train = np.random.normal(0,1,(n,p))\n",
    "X_train = np.stack([get_X(n, m) for _ in range(T)])\n",
    "y_train = np.stack([np.random.binomial(1, logistic(X_train[i], beta[i])) for i in range(T)])\n",
    "\n",
    "X_train_joint = X_train.reshape((-1, n))\n",
    "y_train_joint = y_train.reshape((-1, 1))"
   ]
  },
  {
   "cell_type": "code",
   "execution_count": 118,
   "metadata": {},
   "outputs": [],
   "source": [
    "nt = len(y_train_joint)\n",
    "borda_left, borda_right = np.zeros((nt, n)), np.zeros((nt, n))\n",
    "\n",
    "borda_left[0] = X_train_joint[0][:]\n",
    "borda_right[-1] = X_train_joint[-1][:]\n",
    "\n",
    "rank_left, rank_right = np.zeros((nt, n)), np.zeros((nt, n))\n",
    "\n",
    "rank_left[0] = stats.rankdata(borda_left[0], method = 'min')\n",
    "rank_right[-1] = stats.rankdata(borda_right[-1], method = 'min')\n",
    "\n",
    "\n",
    "buffer = 1000\n",
    "\n",
    "diff = np.zeros(nt - 1)\n",
    "\n",
    "for i in range(1, nt):\n",
    "    borda_left[i] = borda_left[i - 1] + X_train_joint[i] * (2 * y_train_joint[i] - 1)\n",
    "    borda_right[nt - 1 - i] = borda_right[nt - 1 - (i - 1)] + X_train_joint[nt - 1 - i] * (2 * y_train_joint[nt - 1 - i] - 1)\n",
    "    \n",
    "    rank_left[i] = stats.rankdata(borda_left[i], method = 'min')\n",
    "    rank_right[nt - 1 - i] = stats.rankdata(borda_right[nt - 1 - i], method = 'min')\n",
    "\n",
    "for i in range(nt - 1):\n",
    "    diff[i] = np.sum(np.abs(rank_left[i] - rank_right[i + 1]))"
   ]
  },
  {
   "cell_type": "code",
   "execution_count": 119,
   "metadata": {
    "scrolled": true
   },
   "outputs": [
    {
     "data": {
      "text/plain": [
       "[<matplotlib.lines.Line2D at 0x16acaca79c8>]"
      ]
     },
     "execution_count": 119,
     "metadata": {},
     "output_type": "execute_result"
    },
    {
     "data": {
      "image/png": "[encoded data removed]",
      "text/plain": [
       "<Figure size 432x288 with 1 Axes>"
      ]
     },
     "metadata": {
      "needs_background": "light"
     },
     "output_type": "display_data"
    }
   ],
   "source": [
    "plt.plot(np.arange(buffer, nt - buffer), diff[buffer:nt - buffer], '.')"
   ]
  },
  {
   "cell_type": "code",
   "execution_count": null,
   "metadata": {},
   "outputs": [],
   "source": []
  }
 ],
 "metadata": {
  "kernelspec": {
   "display_name": "Python 3",
   "language": "python",
   "name": "python3"
  },
  "language_info": {
   "codemirror_mode": {
    "name": "ipython",
    "version": 3
   },
   "file_extension": ".py",
   "mimetype": "text/x-python",
   "name": "python",
   "nbconvert_exporter": "python",
   "pygments_lexer": "ipython3",
   "version": "3.7.4"
  }
 },
 "nbformat": 4,
 "nbformat_minor": 2
}
