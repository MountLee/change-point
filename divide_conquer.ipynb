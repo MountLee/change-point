{
 "cells": [
  {
   "cell_type": "code",
   "execution_count": 1,
   "metadata": {},
   "outputs": [],
   "source": [
    "import numpy as np"
   ]
  },
  {
   "cell_type": "code",
   "execution_count": null,
   "metadata": {},
   "outputs": [],
   "source": [
    "n = 10000\n",
    "m = 100\n",
    "\n",
    "eta = 5005\n"
   ]
  },
  {
   "cell_type": "code",
   "execution_count": 57,
   "metadata": {},
   "outputs": [],
   "source": [
    "def L_uni_mean(t, Y):\n",
    "    mu1, mu2 = np.mean(Y[:t]), np.mean(Y[t:])\n",
    "    return np.sum((Y[:t] - mu1)**2) + np.sum((Y[t:] - mu2)**2)\n",
    "\n",
    "def fixed_grid(Y, m):\n",
    "    n = len(Y)\n",
    "    res = np.zeros(m + 1)\n",
    "    res[0], res[-1] = np.infty, np.infty\n",
    "    for i in range(1, m):\n",
    "        res[i] = L_uni_mean(i * (n // m), Y)\n",
    "    return res"
   ]
  },
  {
   "cell_type": "code",
   "execution_count": 66,
   "metadata": {},
   "outputs": [],
   "source": [
    "def divide_conquer(jump = [2,3], verbose = False):\n",
    "    T = 2\n",
    "    eps = 5\n",
    "    n = np.array([50000 + eps, 50000 - eps])\n",
    "    p = 1\n",
    "\n",
    "    delta = np.random.uniform(jump[0], jump[1], T)\n",
    "    delta[0] = 0\n",
    "    beta = np.stack([np.random.uniform(0,1,p) + delta[i] for i in range(T)])\n",
    "\n",
    "    diff = np.zeros(T - 1)\n",
    "    for t in range(1, T):\n",
    "        diff[t - 1] = np.sum(np.abs(beta[t] - beta[t - 1])**2)**0.5\n",
    "\n",
    "    y_train = np.concatenate([np.random.normal(beta[i], 1, n[i]) for i in range(T)])\n",
    "    y_train_joint = y_train.reshape((-1, 1)).squeeze()\n",
    "\n",
    "    # divide and conquer\n",
    "    m = 100\n",
    "    alpha = sum(n) // m\n",
    "    true_ix = np.zeros(T - 1)\n",
    "    for t in range(T - 1):\n",
    "        true_ix[t] = sum(n[:(t + 1)]) / alpha\n",
    "    \n",
    "    L_seq = fixed_grid(y_train_joint, m)\n",
    "\n",
    "    E = np.argsort(L_seq)[:2]\n",
    "    \n",
    "    eta_l, eta_r = min(E), max(E)\n",
    "\n",
    "    if verbose:\n",
    "        print(diff)\n",
    "        print(true_ix)\n",
    "        print(E)\n",
    "        \n",
    "    if eta_l <= true_ix <= eta_r:\n",
    "        return 1\n",
    "    else:\n",
    "        return 0"
   ]
  },
  {
   "cell_type": "code",
   "execution_count": 64,
   "metadata": {},
   "outputs": [
    {
     "name": "stdout",
     "output_type": "stream",
     "text": [
      "[2.29509481]\n",
      "[50.005]\n",
      "[50 51]\n"
     ]
    },
    {
     "data": {
      "text/plain": [
       "1"
      ]
     },
     "execution_count": 64,
     "metadata": {},
     "output_type": "execute_result"
    }
   ],
   "source": [
    "divide_conquer(verbose = True)"
   ]
  },
  {
   "cell_type": "code",
   "execution_count": 69,
   "metadata": {},
   "outputs": [
    {
     "name": "stdout",
     "output_type": "stream",
     "text": [
      "0.57\n"
     ]
    }
   ],
   "source": [
    "np.random.seed(0)\n",
    "B = 100\n",
    "record = np.zeros(B)\n",
    "for b in range(B):\n",
    "    record[b] = divide_conquer(verbose = False)\n",
    "print(sum(record) / B)"
   ]
  },
  {
   "cell_type": "code",
   "execution_count": 74,
   "metadata": {},
   "outputs": [
    {
     "name": "stdout",
     "output_type": "stream",
     "text": [
      "1.0\n"
     ]
    }
   ],
   "source": [
    "np.random.seed(0)\n",
    "B = 100\n",
    "record = np.zeros(B)\n",
    "for b in range(B):\n",
    "    record[b] = divide_conquer(jump = [20,30], verbose = False)\n",
    "print(sum(record) / B)"
   ]
  },
  {
   "cell_type": "code",
   "execution_count": null,
   "metadata": {},
   "outputs": [],
   "source": []
  }
 ],
 "metadata": {
  "kernelspec": {
   "display_name": "Python 3",
   "language": "python",
   "name": "python3"
  },
  "language_info": {
   "codemirror_mode": {
    "name": "ipython",
    "version": 3
   },
   "file_extension": ".py",
   "mimetype": "text/x-python",
   "name": "python",
   "nbconvert_exporter": "python",
   "pygments_lexer": "ipython3",
   "version": "3.7.4"
  }
 },
 "nbformat": 4,
 "nbformat_minor": 2
}
