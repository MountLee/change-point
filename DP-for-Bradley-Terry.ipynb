{
 "cells": [
  {
   "cell_type": "code",
   "execution_count": 1,
   "metadata": {},
   "outputs": [],
   "source": [
    "import numpy as np\n",
    "import matplotlib.pyplot as plt\n",
    "import scipy.stats as stats\n",
    "import random\n",
    "\n",
    "# import bt_mle_utils as mle\n",
    "# from simulation_utils import *"
   ]
  },
  {
   "cell_type": "code",
   "execution_count": 21,
   "metadata": {},
   "outputs": [],
   "source": [
    "def get_beta_with_gap(N, delta = 0.1):\n",
    "    beta = np.arange(N) * delta\n",
    "    beta = beta - np.mean(beta)\n",
    "    return beta\n",
    "\n",
    "def get_er_edge(n, m):\n",
    "    \"\"\"\n",
    "    generate m edges uniformly randomly from a graph with n nodes\n",
    "    \"\"\"\n",
    "    all_edge = np.where(np.triu(np.ones((n,n)), 1))\n",
    "    ix = np.random.choice(n * (n - 1) // 2, m, replace = True)\n",
    "    edge = [(all_edge[0][i], all_edge[1][i]) for i in ix]\n",
    "    return edge\n",
    "\n",
    "def get_X_from_edge(edge, n):\n",
    "    m = len(edge)\n",
    "    X = np.zeros((m, n))\n",
    "    for i, e in enumerate(edge):\n",
    "        X[i,e[0]] = 1\n",
    "        X[i,e[1]] = -1\n",
    "    return X\n",
    "\n",
    "def get_X(n, m):\n",
    "    edge = get_er_edge(n, m)\n",
    "    return get_X_from_edge(edge, n)\n",
    "\n",
    "\n",
    "def logistic(X, beta):\n",
    "    beta = beta.reshape((-1,1))\n",
    "#     t = np.clip(X @ beta, a_max = 1000, a_min = -1000)\n",
    "    t = X @ beta\n",
    "    exp = np.exp(t)\n",
    "    return exp / (1 + exp)\n",
    "\n",
    "def loglike_logistic(X, beta, y):\n",
    "    y = y.reshape((-1,1)) \n",
    "    t = X @ beta\n",
    "    res = y.T @ t - np.sum(np.log(1 + np.exp(t)))\n",
    "    return res.item()\n",
    "#     prob = logistic(X, beta)\n",
    "#     return np.sum(y * np.log(prob + 1e-8) + (1 - y) * np.log(1 - prob + 1e-8))\n",
    "#     return np.sum(y * np.log(prob) + (1 - y) * np.log(1 - prob))\n",
    "\n",
    "def grad_logistic(X, beta, y):\n",
    "    prob = logistic(X, beta)\n",
    "    return X.T @ (y.reshape((-1,1)) - prob)\n",
    "\n",
    "def hessian_logistic(X, beta, y):\n",
    "    prob = logistic(X, beta).reshape((len(y),))\n",
    "#     return -(prob * (1 - prob) * X.T) @ X - 1e-8 * np.eye(X.shape[1])\n",
    "    return -(prob * (1 - prob) * X.T) @ X\n",
    "\n",
    "def bt_loss(beta, X_train, y_train, lam):\n",
    "    return -loglike_logistic(X_train, beta, y_train) + lam / 2 * np.sum(beta**2)\n",
    "\n",
    "def bt_newton_solver(X_train, y_train, lam = 0.1, max_step = 50, tol = 1e-12, verbose = False):\n",
    "    n, p = X_train.shape\n",
    "    beta_hat = np.zeros((p,1))\n",
    "    step_size = 1\n",
    "    l_path = []\n",
    "    i = 0\n",
    "    \n",
    "    err = 10\n",
    "    a, b = 0.01, 0.3\n",
    "    max_back = 100\n",
    "\n",
    "    obj_old = np.inf\n",
    "    while i < max_step and err > tol:\n",
    "        g = -grad_logistic(X_train, beta_hat, y_train) + lam * beta_hat\n",
    "        H = -hessian_logistic(X_train, beta_hat, y_train) + lam * np.eye(p)\n",
    "        beta_new = beta_hat + 0\n",
    "        s = step_size\n",
    "\n",
    "        v = -np.linalg.solve(H, g)\n",
    "        for j in range(max_back):\n",
    "            beta_new = beta_new + s * v\n",
    "            obj_new = -loglike_logistic(X_train, beta_new, y_train) + lam / 2 * np.sum(beta_new**2)\n",
    "            if obj_new <= obj_old + b * s * g.T @ v:\n",
    "                break\n",
    "            s *= a\n",
    "#         err = np.sum((beta_new - beta_hat)**2)**0.5\n",
    "        beta_hat = beta_new\n",
    "        err = np.sum((-grad_logistic(X_train, beta_hat, y_train) + lam * beta_hat)**2)**0.5\n",
    "        obj_old = obj_new\n",
    "        l_path.append(obj_new)\n",
    "        i += 1\n",
    "        if verbose:\n",
    "            print(\"step: \",i,\" is done\")\n",
    "    if verbose:\n",
    "        print('i: ', i)\n",
    "        print(\"err: \", err)\n",
    "        print(\"beta_hat: \", beta_hat)\n",
    "    \n",
    "    return beta_hat, l_path\n",
    "\n",
    "def logistic_beta_error(beta, beta_hat):\n",
    "    beta = beta.squeeze()\n",
    "    beta_hat = beta_hat.squeeze()    \n",
    "    return np.sum((beta - beta_hat)**2)**0.5, np.sum(np.abs(beta - beta_hat)**2)**0.5 / np.sum(np.abs(beta)**2)**0.5\n",
    "\n",
    "def logistic_y_error(beta, beta_hat, n = 10000):\n",
    "    p = len(beta)\n",
    "    X_test = np.random.uniform(0,1,(n,p))\n",
    "    y_test = np.random.binomial(1, logistic(X_test, beta))\n",
    "    y_hat = (logistic(X_test, beta_hat) > 0.5).astype(int)\n",
    "    return np.sum(np.abs(y_test - y_hat)) / n\n",
    "\n",
    "def logistic_prob_error(beta, beta_hat, n = 10000):\n",
    "    p = len(beta)\n",
    "    X_test = np.random.uniform(0,1,(n,p))\n",
    "    prob_test = logistic(X_test, beta)\n",
    "    prob_hat = logistic(X_test, beta_hat)\n",
    "    return np.sum(np.abs(prob_test - prob_hat)) / n\n"
   ]
  },
  {
   "cell_type": "code",
   "execution_count": 75,
   "metadata": {},
   "outputs": [],
   "source": [
    "def dp_grid_covariate(X, Y, grid, lamb, gamma, loss_func, estimate_func, smooth = 100, buffer = 200):\n",
    "    \"\"\"\n",
    "    X: n x p array\n",
    "    \"\"\"\n",
    "    n, p = X.shape\n",
    "    point_map = np.ones(n) * -1\n",
    "    B = np.ones(n) * np.infty\n",
    "    B[0] = gamma\n",
    "    \n",
    "    r_cand = np.concatenate([np.array([0]), grid, np.array([n - 1])])\n",
    "    grid_ix = {x:i for i, x in enumerate(r_cand)}\n",
    "    l_cand = np.concatenate([np.array([0]), grid])\n",
    "    m = len(grid)\n",
    "    dp = [[np.infty] * (m + 2) for r in range(m + 1)]\n",
    "    \n",
    "    for r in r_cand:\n",
    "        for l in l_cand:\n",
    "            if l >= r:\n",
    "                break\n",
    "            Y_sub, X_sub = Y[l:r], X[l:r]\n",
    "            \n",
    "            estimate, _ = estimate_func(X_sub, Y_sub, lam)\n",
    "#             print(estimate.shape)\n",
    "#             print(X_sub.shape)\n",
    "#             print(Y_sub.shape)\n",
    "            b = B[l] + gamma + loss_func(estimate, X_sub, Y_sub, lam)\n",
    "            \n",
    "            dp[grid_ix[l]][grid_ix[r]] = b\n",
    "            \n",
    "            if b < B[r]:\n",
    "                B[r] = b\n",
    "                point_map[r] = l\n",
    "    \n",
    "    k = n - 1\n",
    "    cp_loc, cp_val = set([]), []\n",
    "    while k > 0:\n",
    "        h = int(point_map[k])\n",
    "        if h > 0:\n",
    "            cp_loc.add(h)\n",
    "        k = h\n",
    "    cp_loc = sorted(cp_loc)\n",
    "#     for loc in cp_loc:\n",
    "    return cp_loc, B, dp"
   ]
  },
  {
   "cell_type": "code",
   "execution_count": 44,
   "metadata": {},
   "outputs": [
    {
     "name": "stdout",
     "output_type": "stream",
     "text": [
      "[6.06834094 6.4221785 ]\n"
     ]
    }
   ],
   "source": [
    "T = 3\n",
    "n = 50\n",
    "m = np.array([10000, 10000, 10000])\n",
    "cp_truth = np.cumsum(m)[:T-1]\n",
    "\n",
    "beta = np.zeros((T, n))\n",
    "\n",
    "t = 0.9\n",
    "kappa = np.log(t / (1 - t))\n",
    "delta = 1\n",
    "beta_t = get_beta_with_gap(n, delta)\n",
    "beta_t *= kappa / (np.max(beta_t) - np.min(beta_t))\n",
    "beta[0] = beta_t[:]\n",
    "beta[1] = beta_t[np.random.permutation(n)]\n",
    "beta[2] = beta[1][np.random.permutation(n)]\n",
    "\n",
    "diff = np.zeros(T - 1)\n",
    "for t in range(1, T):\n",
    "    diff[t - 1] = np.sum(np.abs(beta[t] - beta[t - 1])**2)**0.5\n",
    "print(diff)\n",
    "\n",
    "# X_train = np.random.normal(0,1,(n,p))\n",
    "X_train = np.stack([get_X(n, m[t]) for t in range(T)])\n",
    "y_train = np.stack([np.random.binomial(1, logistic(X_train[i], beta[i])) for i in range(T)])\n",
    "\n",
    "X_train_joint = X_train.reshape((-1, n))\n",
    "y_train_joint = y_train.reshape((-1, 1))\n",
    "Y = np.zeros_like(X_train_joint)\n",
    "nt = len(y_train_joint)\n",
    "for i in range(nt):\n",
    "    Y[i] = X_train_joint[i] * (2 * y_train_joint[i] - 1)"
   ]
  },
  {
   "cell_type": "code",
   "execution_count": 45,
   "metadata": {},
   "outputs": [
    {
     "data": {
      "text/plain": [
       "array([    0,  5000, 10000, 15000, 20000, 25000])"
      ]
     },
     "execution_count": 45,
     "metadata": {},
     "output_type": "execute_result"
    }
   ],
   "source": [
    "np.arange(0, nt, step = 5000)"
   ]
  },
  {
   "cell_type": "code",
   "execution_count": 124,
   "metadata": {},
   "outputs": [],
   "source": [
    "grid = np.arange(0, nt, step = 2000)[1:]\n",
    "gamma = 40 * np.log(nt * n)\n",
    "lamb = 0.1\n",
    "\n",
    "cp_loc, B, dp = dp_grid_covariate(X_train_joint, y_train_joint, grid, lamb, gamma, bt_loss, bt_newton_solver)"
   ]
  },
  {
   "cell_type": "code",
   "execution_count": 125,
   "metadata": {},
   "outputs": [
    {
     "data": {
      "text/plain": [
       "array([ 2000,  4000,  6000,  8000, 10000, 12000, 14000, 16000, 18000,\n",
       "       20000, 22000, 24000, 26000, 28000])"
      ]
     },
     "execution_count": 125,
     "metadata": {},
     "output_type": "execute_result"
    }
   ],
   "source": [
    "grid"
   ]
  },
  {
   "cell_type": "code",
   "execution_count": 126,
   "metadata": {
    "scrolled": true
   },
   "outputs": [
    {
     "data": {
      "text/plain": [
       "[10000, 20000]"
      ]
     },
     "execution_count": 126,
     "metadata": {},
     "output_type": "execute_result"
    }
   ],
   "source": [
    "cp_loc"
   ]
  },
  {
   "cell_type": "code",
   "execution_count": 127,
   "metadata": {},
   "outputs": [
    {
     "data": {
      "text/plain": [
       "14"
      ]
     },
     "execution_count": 127,
     "metadata": {},
     "output_type": "execute_result"
    }
   ],
   "source": [
    "len(grid)"
   ]
  },
  {
   "cell_type": "code",
   "execution_count": 81,
   "metadata": {},
   "outputs": [
    {
     "data": {
      "text/plain": [
       "(6, 7)"
      ]
     },
     "execution_count": 81,
     "metadata": {},
     "output_type": "execute_result"
    }
   ],
   "source": [
    "len(dp), len(dp[0])"
   ]
  },
  {
   "cell_type": "code",
   "execution_count": 128,
   "metadata": {},
   "outputs": [
    {
     "data": {
      "image/png": "[encoded data removed]",
      "text/plain": [
       "<Figure size 432x288 with 2 Axes>"
      ]
     },
     "metadata": {
      "needs_background": "light"
     },
     "output_type": "display_data"
    }
   ],
   "source": [
    "plt.imshow(dp)\n",
    "plt.colorbar()\n",
    "plt.show()"
   ]
  },
  {
   "cell_type": "code",
   "execution_count": 129,
   "metadata": {},
   "outputs": [],
   "source": [
    "m = len(grid)\n",
    "loss_value = np.ones((m,m)) * np.infty\n",
    "for i in range(m):\n",
    "    for j in range(i + 1, m):\n",
    "#         v = dp[j + 1][m + 1] + dp[i + 1][j + 1] + dp[0][i + 1]\n",
    "        intervals = [[0, grid[i]], [grid[i], grid[j]],[grid[j], nt]]\n",
    "        v = 2 * gamma\n",
    "        for interval in intervals:\n",
    "            l, r = interval[0], interval[1]\n",
    "            Y_sub, X_sub = y_train_joint[l:r], X_train_joint[l:r]\n",
    "            estimate, _ = bt_newton_solver(X_sub, Y_sub, lam)\n",
    "            v += bt_loss(estimate, X_sub, Y_sub, lam)\n",
    "        loss_value[i][j] = v"
   ]
  },
  {
   "cell_type": "code",
   "execution_count": 134,
   "metadata": {},
   "outputs": [
    {
     "data": {
      "image/png": "[encoded data removed]",
      "text/plain": [
       "<Figure size 576x576 with 2 Axes>"
      ]
     },
     "metadata": {
      "needs_background": "light"
     },
     "output_type": "display_data"
    },
    {
     "data": {
      "text/plain": [
       "<Figure size 432x288 with 0 Axes>"
      ]
     },
     "metadata": {},
     "output_type": "display_data"
    }
   ],
   "source": [
    "plt.figure(figsize=(8,8))\n",
    "plt.imshow(loss_value)\n",
    "\n",
    "x_positions = np.arange(0,len(grid)) # pixel count at label position\n",
    "x_labels = grid # labels you want to see\n",
    "plt.xticks(x_positions, x_labels, rotation = 80)\n",
    "plt.xlabel('second split')\n",
    "y_positions = np.arange(0,len(grid)) # pixel count at label position\n",
    "y_labels = grid # labels you want to see\n",
    "plt.yticks(y_positions, y_labels)\n",
    "plt.ylim(len(grid) - 0.5, -0.5)\n",
    "plt.ylabel('first split')\n",
    "\n",
    "plt.colorbar()\n",
    "plt.show()\n",
    "plt.savefig('dp_bt_2cp.pdf')"
   ]
  },
  {
   "cell_type": "code",
   "execution_count": 68,
   "metadata": {},
   "outputs": [
    {
     "data": {
      "text/plain": [
       "array([  568.83902664,  4142.47244533,  7164.27196086, 10719.69366892,\n",
       "       13761.2648598 , 17377.30990566, 20422.41316157])"
      ]
     },
     "execution_count": 68,
     "metadata": {},
     "output_type": "execute_result"
    }
   ],
   "source": [
    "B[B < np.infty]"
   ]
  },
  {
   "cell_type": "code",
   "execution_count": 70,
   "metadata": {},
   "outputs": [
    {
     "data": {
      "text/plain": [
       "array([ 5000, 10000, 15000, 20000, 25000])"
      ]
     },
     "execution_count": 70,
     "metadata": {},
     "output_type": "execute_result"
    }
   ],
   "source": [
    "grid"
   ]
  },
  {
   "cell_type": "code",
   "execution_count": 69,
   "metadata": {
    "scrolled": false
   },
   "outputs": [
    {
     "data": {
      "text/plain": [
       "[<matplotlib.lines.Line2D at 0x20030b237c8>]"
      ]
     },
     "execution_count": 69,
     "metadata": {},
     "output_type": "execute_result"
    },
    {
     "data": {
      "image/png": "[encoded data removed]",
      "text/plain": [
       "<Figure size 432x288 with 1 Axes>"
      ]
     },
     "metadata": {
      "needs_background": "light"
     },
     "output_type": "display_data"
    }
   ],
   "source": [
    "plt.plot(np.arange(nt)[B < np.infty], B[B < np.infty], '-')"
   ]
  },
  {
   "cell_type": "code",
   "execution_count": null,
   "metadata": {},
   "outputs": [],
   "source": []
  },
  {
   "cell_type": "code",
   "execution_count": null,
   "metadata": {},
   "outputs": [],
   "source": []
  },
  {
   "cell_type": "code",
   "execution_count": null,
   "metadata": {},
   "outputs": [],
   "source": []
  },
  {
   "cell_type": "code",
   "execution_count": null,
   "metadata": {},
   "outputs": [],
   "source": []
  },
  {
   "cell_type": "code",
   "execution_count": null,
   "metadata": {},
   "outputs": [],
   "source": []
  },
  {
   "cell_type": "code",
   "execution_count": null,
   "metadata": {},
   "outputs": [],
   "source": []
  },
  {
   "cell_type": "code",
   "execution_count": null,
   "metadata": {},
   "outputs": [],
   "source": []
  },
  {
   "cell_type": "code",
   "execution_count": null,
   "metadata": {},
   "outputs": [],
   "source": []
  },
  {
   "cell_type": "code",
   "execution_count": 156,
   "metadata": {
    "scrolled": false
   },
   "outputs": [
    {
     "data": {
      "text/plain": [
       "<matplotlib.legend.Legend at 0x1d121d2a7c8>"
      ]
     },
     "execution_count": 156,
     "metadata": {},
     "output_type": "execute_result"
    },
    {
     "data": {
      "image/png": "[encoded data removed]",
      "text/plain": [
       "<Figure size 720x432 with 1 Axes>"
      ]
     },
     "metadata": {
      "needs_background": "light"
     },
     "output_type": "display_data"
    }
   ],
   "source": [
    "plt.figure(figsize = (10, 6))\n",
    "plt.plot(cusum_val, '-')\n",
    "plt.vlines(cp_truth, color = 'red', label = \"true cp\", ymin = min(cusum_val), ymax = max(cusum_val))\n",
    "plt.vlines(cp_loc, color = 'black', linestyles = \"dashed\", label = \"estimates\", ymin = min(cusum_val), ymax = max(cusum_val))\n",
    "plt.legend([\"cusum\", \"true cp\", \"estimates\"])"
   ]
  },
  {
   "cell_type": "code",
   "execution_count": null,
   "metadata": {},
   "outputs": [],
   "source": []
  },
  {
   "cell_type": "code",
   "execution_count": null,
   "metadata": {},
   "outputs": [],
   "source": []
  },
  {
   "cell_type": "code",
   "execution_count": null,
   "metadata": {},
   "outputs": [],
   "source": []
  },
  {
   "cell_type": "code",
   "execution_count": null,
   "metadata": {},
   "outputs": [],
   "source": []
  },
  {
   "cell_type": "code",
   "execution_count": null,
   "metadata": {},
   "outputs": [],
   "source": []
  },
  {
   "cell_type": "code",
   "execution_count": null,
   "metadata": {},
   "outputs": [],
   "source": []
  },
  {
   "cell_type": "code",
   "execution_count": 94,
   "metadata": {},
   "outputs": [],
   "source": []
  },
  {
   "cell_type": "code",
   "execution_count": 42,
   "metadata": {},
   "outputs": [
    {
     "data": {
      "text/plain": [
       "(50, 1)"
      ]
     },
     "execution_count": 42,
     "metadata": {},
     "output_type": "execute_result"
    }
   ],
   "source": [
    "beta_hat.shape"
   ]
  },
  {
   "cell_type": "code",
   "execution_count": 41,
   "metadata": {},
   "outputs": [
    {
     "name": "stdout",
     "output_type": "stream",
     "text": [
      "(0.7542433465221183, 0.1648373455879665)\n",
      "0.3003\n",
      "0.03232437871088981\n"
     ]
    }
   ],
   "source": [
    "n = 50\n",
    "\n",
    "t = 0.9\n",
    "kappa = np.log(t / (1 - t))\n",
    "delta = 1\n",
    "beta = get_beta_with_gap(n, delta)\n",
    "beta *= kappa / (np.max(beta) - np.min(beta))\n",
    "\n",
    "m = 10000\n",
    "\n",
    "X_train = get_X(n, m)\n",
    "y_train = np.random.binomial(1, logistic(X_train, beta))\n",
    "\n",
    "beta_hat, l_path = bt_newton_solver(X_train, y_train)\n",
    "\n",
    "print(logistic_beta_error(beta, beta_hat))\n",
    "print(logistic_y_error(beta, beta_hat))\n",
    "print(logistic_prob_error(beta, beta_hat))"
   ]
  },
  {
   "cell_type": "code",
   "execution_count": 66,
   "metadata": {
    "scrolled": true
   },
   "outputs": [
    {
     "data": {
      "text/plain": [
       "<matplotlib.legend.Legend at 0x16acd576e08>"
      ]
     },
     "execution_count": 66,
     "metadata": {},
     "output_type": "execute_result"
    },
    {
     "data": {
      "image/png": "[encoded data removed]",
      "text/plain": [
       "<Figure size 432x288 with 1 Axes>"
      ]
     },
     "metadata": {
      "needs_background": "light"
     },
     "output_type": "display_data"
    }
   ],
   "source": [
    "plt.plot(beta, 'b-')\n",
    "plt.plot(beta_hat, 'r-.')\n",
    "plt.legend(['beta','beta_hat'])"
   ]
  },
  {
   "cell_type": "code",
   "execution_count": 53,
   "metadata": {
    "scrolled": true
   },
   "outputs": [
    {
     "data": {
      "text/plain": [
       "[-5870.348435704885,\n",
       " -5853.039842428691,\n",
       " -5852.991035908558,\n",
       " -5852.991035414691,\n",
       " -5852.991035414691,\n",
       " -5852.9910354146905,\n",
       " -5852.991035414692]"
      ]
     },
     "execution_count": 53,
     "metadata": {},
     "output_type": "execute_result"
    }
   ],
   "source": [
    "l_path"
   ]
  },
  {
   "cell_type": "code",
   "execution_count": 64,
   "metadata": {},
   "outputs": [
    {
     "data": {
      "text/plain": [
       "[<matplotlib.lines.Line2D at 0x16acd816a48>]"
      ]
     },
     "execution_count": 64,
     "metadata": {},
     "output_type": "execute_result"
    },
    {
     "data": {
      "image/png": "[encoded data removed]",
      "text/plain": [
       "<Figure size 432x288 with 1 Axes>"
      ]
     },
     "metadata": {
      "needs_background": "light"
     },
     "output_type": "display_data"
    }
   ],
   "source": [
    "plt.plot(l_path)"
   ]
  },
  {
   "cell_type": "code",
   "execution_count": 67,
   "metadata": {
    "scrolled": false
   },
   "outputs": [
    {
     "data": {
      "text/plain": [
       "(array([ 378.,  575.,  891.,  970.,  886., 1092., 1117., 1046., 1447.,\n",
       "        1598.]),\n",
       " array([0.1       , 0.13887915, 0.17775831, 0.21663746, 0.25551662,\n",
       "        0.29439577, 0.33327493, 0.37215408, 0.41103324, 0.44991239,\n",
       "        0.48879155]),\n",
       " <a list of 10 Patch objects>)"
      ]
     },
     "execution_count": 67,
     "metadata": {},
     "output_type": "execute_result"
    },
    {
     "data": {
      "image/png": "[encoded data removed]",
      "text/plain": [
       "<Figure size 432x288 with 1 Axes>"
      ]
     },
     "metadata": {
      "needs_background": "light"
     },
     "output_type": "display_data"
    }
   ],
   "source": [
    "plt.hist(logistic(X_train, beta))"
   ]
  },
  {
   "cell_type": "markdown",
   "metadata": {},
   "source": [
    "## Check magnitude of gamma"
   ]
  },
  {
   "cell_type": "code",
   "execution_count": null,
   "metadata": {},
   "outputs": [],
   "source": [
    "def bt_loss(beta, X_train, y_train, lam):\n",
    "    return -loglike_logistic(X_train, beta, y_train) + lam / 2 * np.sum(beta**2)\n",
    "\n",
    "def bt_newton_solver(X_train, y_train, lam = 0.1, max_step = 50, tol = 1e-12, verbose = False):\n",
    "    n, p = X_train.shape\n",
    "    beta_hat = np.zeros((p,1))\n",
    "    step_size = 1\n",
    "    l_path = []\n",
    "    i = 0\n",
    "    \n",
    "    err = 10\n",
    "    a, b = 0.01, 0.3\n",
    "    max_back = 100\n",
    "\n",
    "    obj_old = np.inf\n",
    "    while i < max_step and err > tol:\n",
    "        g = -grad_logistic(X_train, beta_hat, y_train) + lam * beta_hat\n",
    "        H = -hessian_logistic(X_train, beta_hat, y_train) + lam * np.eye(p)\n",
    "        beta_new = beta_hat + 0\n",
    "        s = step_size\n",
    "\n",
    "        v = -np.linalg.solve(H, g)\n",
    "        for j in range(max_back):\n",
    "            beta_new = beta_new + s * v\n",
    "            obj_new = -loglike_logistic(X_train, beta_new, y_train) + lam / 2 * np.sum(beta_new**2)\n",
    "            if obj_new <= obj_old + b * s * g.T @ v:\n",
    "                break\n",
    "            s *= a\n",
    "#         err = np.sum((beta_new - beta_hat)**2)**0.5\n",
    "        beta_hat = beta_new\n",
    "        err = np.sum((-grad_logistic(X_train, beta_hat, y_train) + lam * beta_hat)**2)**0.5\n",
    "        obj_old = obj_new\n",
    "        l_path.append(obj_new)\n",
    "        i += 1\n",
    "        if verbose:\n",
    "            print(\"step: \",i,\" is done\")\n",
    "    if verbose:\n",
    "        print('i: ', i)\n",
    "        print(\"err: \", err)\n",
    "        print(\"beta_hat: \", beta_hat)\n",
    "    \n",
    "    return beta_hat, l_path"
   ]
  },
  {
   "cell_type": "code",
   "execution_count": 17,
   "metadata": {
    "scrolled": true
   },
   "outputs": [
    {
     "name": "stdout",
     "output_type": "stream",
     "text": [
      "[6.6307559]\n"
     ]
    }
   ],
   "source": [
    "T = 2\n",
    "n = 50\n",
    "m = 10000\n",
    "\n",
    "beta = np.zeros((T, n))\n",
    "\n",
    "t = 0.9\n",
    "kappa = np.log(t / (1 - t))\n",
    "delta = 1\n",
    "beta_t = get_beta_with_gap(n, delta)\n",
    "beta_t *= kappa / (np.max(beta_t) - np.min(beta_t))\n",
    "beta[0] = beta_t[:]\n",
    "beta[1] = beta_t[np.random.permutation(n)]\n",
    "\n",
    "diff = np.zeros(T - 1)\n",
    "for t in range(1, T):\n",
    "    diff[t - 1] = np.sum(np.abs(beta[t] - beta[t - 1])**2)**0.5\n",
    "print(diff)\n",
    "\n",
    "# X_train = np.random.normal(0,1,(n,p))\n",
    "X_train = np.stack([get_X(n, m) for _ in range(T)])\n",
    "y_train = np.stack([np.random.binomial(1, logistic(X_train[i], beta[i])) for i in range(T)])\n",
    "\n",
    "X_train_joint = X_train.reshape((-1, n))\n",
    "y_train_joint = y_train.reshape((-1, 1))"
   ]
  },
  {
   "cell_type": "code",
   "execution_count": null,
   "metadata": {},
   "outputs": [],
   "source": []
  },
  {
   "cell_type": "code",
   "execution_count": 26,
   "metadata": {},
   "outputs": [],
   "source": [
    "nt = len(y_train_joint)\n",
    "cp_truth = m\n",
    "lam = 0.1\n",
    "\n",
    "def loss_loc(loc):\n",
    "    X_sub, y_sub = X_train_joint[:loc], y_train_joint[:loc]\n",
    "    beta_cp1, _ = bt_newton_solver(X_sub, y_sub, lam)\n",
    "    loss1 = bt_loss(beta_cp1, X_sub, y_sub, lam)\n",
    "\n",
    "    X_sub, y_sub = X_train_joint[loc:], y_train_joint[loc:]\n",
    "    beta_cp2, _ = bt_newton_solver(X_sub, y_sub, lam)\n",
    "    loss2 = bt_loss(beta_cp2, X_sub, y_sub, lam)\n",
    "    \n",
    "    return loss1 + loss2\n",
    "\n",
    "# loss_all[cp_truth] = loss_loc(cp_truth)\n",
    "step = 500\n",
    "loc_list = np.arange(step, nt, step)\n",
    "loss_all = np.zeros(len(loc_list))\n",
    "\n",
    "for i, loc in enumerate(loc_list):\n",
    "    loss_all[i] = loss_loc(loc)"
   ]
  },
  {
   "cell_type": "code",
   "execution_count": 27,
   "metadata": {
    "scrolled": false
   },
   "outputs": [
    {
     "data": {
      "text/plain": [
       "[<matplotlib.lines.Line2D at 0x2002f945048>]"
      ]
     },
     "execution_count": 27,
     "metadata": {},
     "output_type": "execute_result"
    },
    {
     "data": {
      "image/png": "[encoded data removed]",
      "text/plain": [
       "<Figure size 432x288 with 1 Axes>"
      ]
     },
     "metadata": {
      "needs_background": "light"
     },
     "output_type": "display_data"
    }
   ],
   "source": [
    "plt.plot(loc_list, loss_all, '.')"
   ]
  },
  {
   "cell_type": "code",
   "execution_count": null,
   "metadata": {},
   "outputs": [],
   "source": []
  },
  {
   "cell_type": "code",
   "execution_count": null,
   "metadata": {},
   "outputs": [],
   "source": []
  },
  {
   "cell_type": "code",
   "execution_count": null,
   "metadata": {},
   "outputs": [],
   "source": []
  },
  {
   "cell_type": "code",
   "execution_count": null,
   "metadata": {},
   "outputs": [],
   "source": []
  },
  {
   "cell_type": "markdown",
   "metadata": {},
   "source": [
    "Two change points"
   ]
  },
  {
   "cell_type": "code",
   "execution_count": 85,
   "metadata": {
    "scrolled": true
   },
   "outputs": [
    {
     "name": "stdout",
     "output_type": "stream",
     "text": [
      "[6.73874156 6.5274544 ]\n"
     ]
    }
   ],
   "source": [
    "T = 3\n",
    "n = 50\n",
    "m = 10000\n",
    "\n",
    "beta = np.zeros((T, n))\n",
    "\n",
    "t = 0.9\n",
    "kappa = np.log(t / (1 - t))\n",
    "delta = 1\n",
    "beta_t = get_beta_with_gap(n, delta)\n",
    "beta_t *= kappa / (np.max(beta_t) - np.min(beta_t))\n",
    "beta[0] = beta_t[:]\n",
    "beta[1] = beta_t[np.random.permutation(n)]\n",
    "beta[2] = beta[1][np.random.permutation(n)]\n",
    "\n",
    "diff = np.zeros(T - 1)\n",
    "for t in range(1, T):\n",
    "    diff[t - 1] = np.sum(np.abs(beta[t] - beta[t - 1])**2)**0.5\n",
    "print(diff)\n",
    "\n",
    "# X_train = np.random.normal(0,1,(n,p))\n",
    "X_train = np.stack([get_X(n, m) for _ in range(T)])\n",
    "y_train = np.stack([np.random.binomial(1, logistic(X_train[i], beta[i])) for i in range(T)])\n",
    "\n",
    "X_train_joint = X_train.reshape((-1, n))\n",
    "y_train_joint = y_train.reshape((-1, 1))"
   ]
  },
  {
   "cell_type": "code",
   "execution_count": 86,
   "metadata": {},
   "outputs": [],
   "source": [
    "nt = len(y_train_joint)\n",
    "borda_left, borda_right = np.zeros((nt, n)), np.zeros((nt, n))\n",
    "\n",
    "borda_left[0] = X_train_joint[0][:]\n",
    "borda_right[-1] = X_train_joint[-1][:]\n",
    "\n",
    "rank_left, rank_right = np.zeros((nt, n)), np.zeros((nt, n))\n",
    "\n",
    "rank_left[0] = stats.rankdata(borda_left[0], method = 'min')\n",
    "rank_right[-1] = stats.rankdata(borda_right[-1], method = 'min')\n",
    "\n",
    "\n",
    "buffer = 1000\n",
    "\n",
    "diff = np.zeros(nt - 1)\n",
    "\n",
    "for i in range(1, nt):\n",
    "    borda_left[i] = borda_left[i - 1] + X_train_joint[i] * (2 * y_train_joint[i] - 1)\n",
    "    borda_right[nt - 1 - i] = borda_right[nt - 1 - (i - 1)] + X_train_joint[nt - 1 - i] * (2 * y_train_joint[nt - 1 - i] - 1)\n",
    "    \n",
    "    rank_left[i] = stats.rankdata(borda_left[i], method = 'min')\n",
    "    rank_right[nt - 1 - i] = stats.rankdata(borda_right[nt - 1 - i], method = 'min')\n",
    "\n",
    "for i in range(nt - 1):\n",
    "    diff[i] = np.sum(np.abs(rank_left[i] - rank_right[i + 1])) / n"
   ]
  },
  {
   "cell_type": "code",
   "execution_count": 90,
   "metadata": {},
   "outputs": [
    {
     "data": {
      "text/plain": [
       "array([24.34, 23.74, 23.12, 21.78, 20.58, 20.64, 20.82, 20.58, 20.8 ,\n",
       "       20.8 , 20.38, 20.5 , 20.5 , 20.22, 19.2 , 19.06, 18.3 , 18.48,\n",
       "       17.96, 17.22, 17.9 , 17.72, 17.68, 17.38, 16.86, 16.94, 16.72,\n",
       "       16.12, 16.48, 16.36])"
      ]
     },
     "execution_count": 90,
     "metadata": {},
     "output_type": "execute_result"
    }
   ],
   "source": [
    "diff[:30]"
   ]
  },
  {
   "cell_type": "code",
   "execution_count": 87,
   "metadata": {
    "scrolled": true
   },
   "outputs": [
    {
     "data": {
      "text/plain": [
       "28000"
      ]
     },
     "execution_count": 87,
     "metadata": {},
     "output_type": "execute_result"
    }
   ],
   "source": [
    "len(diff[buffer:nt - buffer])"
   ]
  },
  {
   "cell_type": "code",
   "execution_count": 71,
   "metadata": {},
   "outputs": [
    {
     "data": {
      "text/plain": [
       "array([1, 2, 3, 4])"
      ]
     },
     "execution_count": 71,
     "metadata": {},
     "output_type": "execute_result"
    }
   ],
   "source": [
    "np.arange(1,5)"
   ]
  },
  {
   "cell_type": "code",
   "execution_count": 73,
   "metadata": {
    "scrolled": false
   },
   "outputs": [
    {
     "data": {
      "text/plain": [
       "[<matplotlib.lines.Line2D at 0x1d11c54ad08>]"
      ]
     },
     "execution_count": 73,
     "metadata": {},
     "output_type": "execute_result"
    },
    {
     "data": {
      "image/png": "[encoded data removed]",
      "text/plain": [
       "<Figure size 432x288 with 1 Axes>"
      ]
     },
     "metadata": {
      "needs_background": "light"
     },
     "output_type": "display_data"
    }
   ],
   "source": [
    "buffer = 0\n",
    "plt.plot(np.arange(buffer, nt - 1 - buffer), diff[buffer:nt - 1 - buffer], '.')"
   ]
  },
  {
   "cell_type": "markdown",
   "metadata": {},
   "source": [
    "More change points"
   ]
  },
  {
   "cell_type": "code",
   "execution_count": 117,
   "metadata": {
    "scrolled": true
   },
   "outputs": [
    {
     "name": "stdout",
     "output_type": "stream",
     "text": [
      "[6.52868646 6.16955266 4.57568243]\n"
     ]
    }
   ],
   "source": [
    "T = 4\n",
    "n = 50\n",
    "m = 10000\n",
    "\n",
    "beta = np.zeros((T, n))\n",
    "\n",
    "t = 0.9\n",
    "kappa = np.log(t / (1 - t))\n",
    "delta = 1\n",
    "beta_t = get_beta_with_gap(n, delta)\n",
    "beta_t *= kappa / (np.max(beta_t) - np.min(beta_t))\n",
    "beta[0] = beta_t[:]\n",
    "beta[1] = beta_t[np.random.permutation(n)]\n",
    "beta[2] = beta[1][np.random.permutation(n)]\n",
    "\n",
    "diff = np.zeros(T - 1)\n",
    "for t in range(1, T):\n",
    "    diff[t - 1] = np.sum(np.abs(beta[t] - beta[t - 1])**2)**0.5\n",
    "print(diff)\n",
    "\n",
    "# X_train = np.random.normal(0,1,(n,p))\n",
    "X_train = np.stack([get_X(n, m) for _ in range(T)])\n",
    "y_train = np.stack([np.random.binomial(1, logistic(X_train[i], beta[i])) for i in range(T)])\n",
    "\n",
    "X_train_joint = X_train.reshape((-1, n))\n",
    "y_train_joint = y_train.reshape((-1, 1))"
   ]
  },
  {
   "cell_type": "code",
   "execution_count": 118,
   "metadata": {},
   "outputs": [],
   "source": [
    "nt = len(y_train_joint)\n",
    "borda_left, borda_right = np.zeros((nt, n)), np.zeros((nt, n))\n",
    "\n",
    "borda_left[0] = X_train_joint[0][:]\n",
    "borda_right[-1] = X_train_joint[-1][:]\n",
    "\n",
    "rank_left, rank_right = np.zeros((nt, n)), np.zeros((nt, n))\n",
    "\n",
    "rank_left[0] = stats.rankdata(borda_left[0], method = 'min')\n",
    "rank_right[-1] = stats.rankdata(borda_right[-1], method = 'min')\n",
    "\n",
    "\n",
    "buffer = 1000\n",
    "\n",
    "diff = np.zeros(nt - 1)\n",
    "\n",
    "for i in range(1, nt):\n",
    "    borda_left[i] = borda_left[i - 1] + X_train_joint[i] * (2 * y_train_joint[i] - 1)\n",
    "    borda_right[nt - 1 - i] = borda_right[nt - 1 - (i - 1)] + X_train_joint[nt - 1 - i] * (2 * y_train_joint[nt - 1 - i] - 1)\n",
    "    \n",
    "    rank_left[i] = stats.rankdata(borda_left[i], method = 'min')\n",
    "    rank_right[nt - 1 - i] = stats.rankdata(borda_right[nt - 1 - i], method = 'min')\n",
    "\n",
    "for i in range(nt - 1):\n",
    "    diff[i] = np.sum(np.abs(rank_left[i] - rank_right[i + 1]))"
   ]
  },
  {
   "cell_type": "code",
   "execution_count": 119,
   "metadata": {
    "scrolled": true
   },
   "outputs": [
    {
     "data": {
      "text/plain": [
       "[<matplotlib.lines.Line2D at 0x16acaca79c8>]"
      ]
     },
     "execution_count": 119,
     "metadata": {},
     "output_type": "execute_result"
    },
    {
     "data": {
      "image/png": "[encoded data removed]",
      "text/plain": [
       "<Figure size 432x288 with 1 Axes>"
      ]
     },
     "metadata": {
      "needs_background": "light"
     },
     "output_type": "display_data"
    }
   ],
   "source": [
    "plt.plot(np.arange(buffer, nt - buffer), diff[buffer:nt - buffer], '.')"
   ]
  },
  {
   "cell_type": "code",
   "execution_count": null,
   "metadata": {},
   "outputs": [],
   "source": []
  }
 ],
 "metadata": {
  "kernelspec": {
   "display_name": "Python 3",
   "language": "python",
   "name": "python3"
  },
  "language_info": {
   "codemirror_mode": {
    "name": "ipython",
    "version": 3
   },
   "file_extension": ".py",
   "mimetype": "text/x-python",
   "name": "python",
   "nbconvert_exporter": "python",
   "pygments_lexer": "ipython3",
   "version": "3.7.4"
  }
 },
 "nbformat": 4,
 "nbformat_minor": 2
}
